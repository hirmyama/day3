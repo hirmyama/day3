{
 "cells": [
  {
   "cell_type": "code",
   "execution_count": null,
   "metadata": {},
   "outputs": [],
   "source": [
    "import boto3\n",
    "iam = boto3.resource('iam')"
   ]
  },
  {
   "cell_type": "code",
   "execution_count": null,
   "metadata": {},
   "outputs": [],
   "source": [
    "# すべてのユーザー\n",
    "list(iam.users.all())"
   ]
  },
  {
   "cell_type": "code",
   "execution_count": null,
   "metadata": {},
   "outputs": [],
   "source": [
    "# すべてのグループ\n",
    "list(iam.groups.all())"
   ]
  },
  {
   "cell_type": "code",
   "execution_count": null,
   "metadata": {},
   "outputs": [],
   "source": [
    "# すべてのロール\n",
    "list(iam.roles.all())"
   ]
  },
  {
   "cell_type": "code",
   "execution_count": null,
   "metadata": {},
   "outputs": [],
   "source": [
    "# すべてのポリシー ※実行には10秒ほどかかる\n",
    "list(iam.policies.all())"
   ]
  },
  {
   "cell_type": "code",
   "execution_count": null,
   "metadata": {},
   "outputs": [],
   "source": [
    "# すべてのポリシーの数 ※実行には10秒ほどかかる\n",
    "len(list(iam.policies.all()))"
   ]
  },
  {
   "cell_type": "code",
   "execution_count": null,
   "metadata": {},
   "outputs": [],
   "source": [
    "# フィルターを使用すると絞り込みを行うことができる。\n",
    "# AWS 管理ポリシーの数\n",
    "len(list(iam.policies.filter(Scope='AWS')))"
   ]
  },
  {
   "cell_type": "code",
   "execution_count": null,
   "metadata": {},
   "outputs": [],
   "source": [
    "# ユーザー管理ポリシーの数\n",
    "len(list(iam.policies.filter(Scope='Local')))"
   ]
  },
  {
   "cell_type": "code",
   "execution_count": null,
   "metadata": {},
   "outputs": [],
   "source": [
    "# ユーザーの作成\n",
    "\n",
    "iam.User('taro').create()"
   ]
  },
  {
   "cell_type": "code",
   "execution_count": null,
   "metadata": {},
   "outputs": [],
   "source": [
    "# グループの作成\n",
    "\n",
    "iam.Group('developers').create()"
   ]
  },
  {
   "cell_type": "code",
   "execution_count": null,
   "metadata": {},
   "outputs": [],
   "source": [
    "# ロールの作成\n",
    "\n",
    "# Role は、iam.Role('...').create() では作ることができない(createメソッドがない)\n",
    "# 下記のように作る。\n",
    "\n",
    "import json\n",
    "policy={\n",
    "  \"Version\": \"2012-10-17\",\n",
    "  \"Statement\": [\n",
    "    {\n",
    "      \"Effect\": \"Allow\",\n",
    "      \"Principal\": {\n",
    "        \"Service\": \"lambda.amazonaws.com\"\n",
    "      },\n",
    "      \"Action\": \"sts:AssumeRole\"\n",
    "    }\n",
    "  ]\n",
    "}\n",
    "iam.create_role(RoleName='lambda_role',AssumeRolePolicyDocument=json.dumps(policy))"
   ]
  },
  {
   "cell_type": "code",
   "execution_count": null,
   "metadata": {},
   "outputs": [],
   "source": [
    "# ユーザー、グループ、ロールにポリシーを付与する例\n",
    "\n",
    "policy_arn = 'arn:aws:iam::aws:policy/AmazonS3FullAccess'\n",
    "\n",
    "iam.User(name='taro').attach_policy(PolicyArn=policy_arn)\n",
    "iam.Group('developers').attach_policy(PolicyArn=policy_arn)\n",
    "iam.Role(name='lambda_role').attach_policy(PolicyArn=policy_arn)"
   ]
  },
  {
   "cell_type": "code",
   "execution_count": null,
   "metadata": {},
   "outputs": [],
   "source": [
    "# 「カスタマー管理ポリシー」（　「ユーザーによる管理」ポリシー）の作成\n",
    "\n",
    "import json\n",
    "\n",
    "policy={\n",
    "    \"Version\": \"2012-10-17\",\n",
    "    \"Statement\": [\n",
    "        {\n",
    "            \"Effect\": \"Allow\",\n",
    "            \"Action\": \"ec2:DescribeInstances\",\n",
    "            \"Resource\": \"*\"\n",
    "        }\n",
    "    ]\n",
    "}\n",
    "\n",
    "iam.create_policy(PolicyName='ptest', PolicyDocument=json.dumps(policy))"
   ]
  },
  {
   "cell_type": "code",
   "execution_count": null,
   "metadata": {},
   "outputs": [],
   "source": [
    "# 「カスタマー管理ポリシー」（　「ユーザーによる管理」ポリシー）のバージョンアップ\n",
    "\n",
    "# v2, v3, v4, v5とバージョンが上がっていく。\n",
    "# ポリシーあたり、バージョンはトータルで5個までしか作れない。\n",
    "# たとえばv1やv2を削除すれば、v6やv7をつくることができる。\n",
    "\n",
    "import json\n",
    "\n",
    "policy={\n",
    "    \"Version\": \"2012-10-17\",\n",
    "    \"Statement\": [\n",
    "        {\n",
    "            \"Effect\": \"Allow\",\n",
    "            \"Action\": \"ec2:DescribeInstances\",\n",
    "            \"Resource\": \"*\",\n",
    "            \"Condition\": {\n",
    "                \"StringLike\": {\n",
    "                    \"ec2:ResourceTag/Name\": \"WebServer*\"\n",
    "                }\n",
    "            }\n",
    "        }\n",
    "    ]\n",
    "}\n",
    "\n",
    "iam.Policy(arn='arn:aws:iam::516830931548:policy/ptest').create_version(PolicyDocument=json.dumps(policy))"
   ]
  },
  {
   "cell_type": "code",
   "execution_count": null,
   "metadata": {},
   "outputs": [],
   "source": [
    "# v2をデフォルトにする\n",
    "iam.meta.client.set_default_policy_version(\n",
    "    PolicyArn='arn:aws:iam::516830931548:policy/ptest',\n",
    "    VersionId='v2'\n",
    ")"
   ]
  },
  {
   "cell_type": "code",
   "execution_count": null,
   "metadata": {},
   "outputs": [],
   "source": [
    "# ユーザーに「インラインポリシー」を追加する\n",
    "\n",
    "import json\n",
    "\n",
    "policy={\n",
    "    \"Version\": \"2012-10-17\",\n",
    "    \"Statement\": [\n",
    "        {\n",
    "            \"Effect\": \"Allow\",\n",
    "            \"Action\": \"dynamodb:*\",\n",
    "            \"Resource\": \"*\"\n",
    "        }\n",
    "    ]\n",
    "}\n",
    "\n",
    "iam.User(name='taro').create_policy(PolicyName='dynamofull', PolicyDocument=json.dumps(policy))"
   ]
  },
  {
   "cell_type": "code",
   "execution_count": null,
   "metadata": {},
   "outputs": [],
   "source": [
    "# ユーザーをグループに所属させる\n",
    "\n",
    "iam.User('taro').add_group(GroupName='developers')"
   ]
  },
  {
   "cell_type": "code",
   "execution_count": null,
   "metadata": {},
   "outputs": [],
   "source": [
    "# ユーザーがマネジメントコンソールにログインするためのパスワードを発行する\n",
    "iam.User('taro').create_login_profile(Password='taropass')"
   ]
  },
  {
   "cell_type": "code",
   "execution_count": null,
   "metadata": {},
   "outputs": [],
   "source": [
    "# ユーザーのアクセスキーID、シークレットアクセスキーを発行する\n",
    "\n",
    "# （アクセスキーID、シークレットアクセスキー）のペアは2組まで作ることができる。\n",
    "#3組目を作る場合は、すでに存在する組を削除しなければならない。\n",
    "\n",
    "iam.User('taro').create_access_key_pair()"
   ]
  },
  {
   "cell_type": "code",
   "execution_count": null,
   "metadata": {},
   "outputs": [],
   "source": []
  }
 ],
 "metadata": {
  "kernelspec": {
   "display_name": "Python 3",
   "language": "python",
   "name": "python3"
  },
  "language_info": {
   "codemirror_mode": {
    "name": "ipython",
    "version": 3
   },
   "file_extension": ".py",
   "mimetype": "text/x-python",
   "name": "python",
   "nbconvert_exporter": "python",
   "pygments_lexer": "ipython3",
   "version": "3.7.0"
  }
 },
 "nbformat": 4,
 "nbformat_minor": 2
}
