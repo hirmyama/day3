{
 "cells": [
  {
   "cell_type": "code",
   "execution_count": null,
   "metadata": {},
   "outputs": [],
   "source": [
    "# PythonのWebフレームワーク「Bottle」を利用。\n",
    "\n",
    "from bottle import route, run, request"
   ]
  },
  {
   "cell_type": "code",
   "execution_count": null,
   "metadata": {},
   "outputs": [],
   "source": [
    "# S3を使用する準備\n",
    "\n",
    "import boto3\n",
    "s3 = boto3.resource('s3')"
   ]
  },
  {
   "cell_type": "code",
   "execution_count": null,
   "metadata": {},
   "outputs": [],
   "source": [
    "# アプリケーションのルート（/）にアクセスしたら、S3バケット一覧を表示\n",
    "\n",
    "@route('/')\n",
    "def hello():\n",
    "    for bucket in s3.buckets.all():\n",
    "        yield '<p>' + bucket.name"
   ]
  },
  {
   "cell_type": "code",
   "execution_count": null,
   "metadata": {},
   "outputs": [],
   "source": [
    "# 名前を入力するフォーム\n",
    "@route('/name')\n",
    "def welcome():\n",
    "    return '''\n",
    "        <form action='/welcome'>\n",
    "            <input type='text' name='name'>\n",
    "            <input type='submit' value='送信'>\n",
    "        </form>\n",
    "    '''\n"
   ]
  },
  {
   "cell_type": "code",
   "execution_count": null,
   "metadata": {},
   "outputs": [],
   "source": [
    "# フォームから送信されたパラメータを取得する例.\n",
    "@route('/welcome')\n",
    "def welcome():\n",
    "    name = request.params.get('name')\n",
    "    return name + 'さん、こんにちは!'"
   ]
  },
  {
   "cell_type": "code",
   "execution_count": null,
   "metadata": {},
   "outputs": [],
   "source": [
    "# 開発用Webサーバーを起動。\n",
    "run(host='localhost', port=8080, debug=True)"
   ]
  },
  {
   "cell_type": "code",
   "execution_count": null,
   "metadata": {},
   "outputs": [],
   "source": []
  }
 ],
 "metadata": {
  "kernelspec": {
   "display_name": "Python 3",
   "language": "python",
   "name": "python3"
  },
  "language_info": {
   "codemirror_mode": {
    "name": "ipython",
    "version": 3
   },
   "file_extension": ".py",
   "mimetype": "text/x-python",
   "name": "python",
   "nbconvert_exporter": "python",
   "pygments_lexer": "ipython3",
   "version": "3.7.0"
  }
 },
 "nbformat": 4,
 "nbformat_minor": 2
}
