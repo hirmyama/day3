{
 "cells": [
  {
   "cell_type": "code",
   "execution_count": 1,
   "metadata": {},
   "outputs": [],
   "source": [
    "import boto3\n",
    "cw = boto3.resource('cloudwatch')"
   ]
  },
  {
   "cell_type": "code",
   "execution_count": 2,
   "metadata": {
    "scrolled": true
   },
   "outputs": [
    {
     "data": {
      "text/plain": [
       "[cloudwatch.Metric(namespace='AWS/MediaConvert', name='Errors'),\n",
       " cloudwatch.Metric(namespace='AWS/ElasticTranscoder', name='Errors'),\n",
       " cloudwatch.Metric(namespace='AWS/ElasticTranscoder', name='Throttles'),\n",
       " cloudwatch.Metric(namespace='AWS/ElasticTranscoder', name='Throttles'),\n",
       " cloudwatch.Metric(namespace='AWS/ElasticTranscoder', name='Errors'),\n",
       " cloudwatch.Metric(namespace='AWS/Rekognition', name='ResponseTime'),\n",
       " cloudwatch.Metric(namespace='AWS/Rekognition', name='SuccessfulRequestCount'),\n",
       " cloudwatch.Metric(namespace='AWS/Rekognition', name='ResponseTime'),\n",
       " cloudwatch.Metric(namespace='AWS/Polly', name='2XXCount'),\n",
       " cloudwatch.Metric(namespace='AWS/Rekognition', name='SuccessfulRequestCount'),\n",
       " cloudwatch.Metric(namespace='AWS/Rekognition', name='SuccessfulRequestCount'),\n",
       " cloudwatch.Metric(namespace='AWS/Polly', name='4XXCount'),\n",
       " cloudwatch.Metric(namespace='AWS/Rekognition', name='UserErrorCount'),\n",
       " cloudwatch.Metric(namespace='AWS/SWF', name='ProvisionedBucketSize'),\n",
       " cloudwatch.Metric(namespace='AWS/SWF', name='ProvisionedRefillRate'),\n",
       " cloudwatch.Metric(namespace='AWS/SWF', name='ThrottledEvents'),\n",
       " cloudwatch.Metric(namespace='AWS/SWF', name='ConsumedCapacity'),\n",
       " cloudwatch.Metric(namespace='AWS/Rekognition', name='UserErrorCount'),\n",
       " cloudwatch.Metric(namespace='AWS/Polly', name='5XXCount'),\n",
       " cloudwatch.Metric(namespace='AWS/Firehose', name='ListDeliveryStreams.Requests'),\n",
       " cloudwatch.Metric(namespace='AWS/EC2', name='CPUUtilization'),\n",
       " cloudwatch.Metric(namespace='AWS/EBS', name='VolumeTotalReadTime'),\n",
       " cloudwatch.Metric(namespace='AWS/EC2', name='EBSReadOps'),\n",
       " cloudwatch.Metric(namespace='AWS/EC2', name='EBSWriteOps'),\n",
       " cloudwatch.Metric(namespace='AWS/EBS', name='VolumeQueueLength'),\n",
       " cloudwatch.Metric(namespace='AWS/EC2', name='EBSByteBalance%'),\n",
       " cloudwatch.Metric(namespace='AWS/EBS', name='VolumeReadOps'),\n",
       " cloudwatch.Metric(namespace='AWS/EBS', name='VolumeReadBytes'),\n",
       " cloudwatch.Metric(namespace='AWS/EBS', name='VolumeWriteBytes'),\n",
       " cloudwatch.Metric(namespace='AWS/EBS', name='VolumeIdleTime'),\n",
       " cloudwatch.Metric(namespace='AWS/EC2', name='EBSWriteBytes'),\n",
       " cloudwatch.Metric(namespace='AWS/EBS', name='VolumeTotalWriteTime'),\n",
       " cloudwatch.Metric(namespace='AWS/EC2', name='EBSIOBalance%'),\n",
       " cloudwatch.Metric(namespace='AWS/EBS', name='BurstBalance'),\n",
       " cloudwatch.Metric(namespace='AWS/EBS', name='VolumeWriteOps'),\n",
       " cloudwatch.Metric(namespace='AWS/EC2', name='EBSReadBytes'),\n",
       " cloudwatch.Metric(namespace='AWS/EC2', name='NetworkIn'),\n",
       " cloudwatch.Metric(namespace='AWS/EC2', name='NetworkOut'),\n",
       " cloudwatch.Metric(namespace='AWS/EC2', name='NetworkPacketsIn'),\n",
       " cloudwatch.Metric(namespace='AWS/EC2', name='NetworkPacketsOut'),\n",
       " cloudwatch.Metric(namespace='AWS/EC2', name='StatusCheckFailed_Instance'),\n",
       " cloudwatch.Metric(namespace='AWS/EC2', name='StatusCheckFailed_System'),\n",
       " cloudwatch.Metric(namespace='AWS/EC2', name='StatusCheckFailed'),\n",
       " cloudwatch.Metric(namespace='AWS/Firehose', name='ListDeliveryStreams.Latency')]"
      ]
     },
     "execution_count": 2,
     "metadata": {},
     "output_type": "execute_result"
    }
   ],
   "source": [
    "# すべてのメトリクス（名前空間とメトリクス名）を取得\n",
    "list(cw.metrics.all())"
   ]
  },
  {
   "cell_type": "code",
   "execution_count": 3,
   "metadata": {},
   "outputs": [
    {
     "data": {
      "text/plain": [
       "[{'Name': 'InstanceId', 'Value': 'i-0f66e063d56f875ff'}]"
      ]
     },
     "execution_count": 3,
     "metadata": {},
     "output_type": "execute_result"
    }
   ],
   "source": [
    "# 名前空間とメトリクス名を指定して、そこに含まれる「ディメンジョン」を表示\n",
    "metric = cw.Metric(namespace='AWS/EC2', name='CPUUtilization')\n",
    "\n",
    "metric.dimensions"
   ]
  },
  {
   "cell_type": "code",
   "execution_count": 4,
   "metadata": {},
   "outputs": [
    {
     "data": {
      "text/plain": [
       "{'Label': 'CPUUtilization',\n",
       " 'Datapoints': [{'Timestamp': datetime.datetime(2018, 11, 6, 11, 56, tzinfo=tzutc()),\n",
       "   'Average': 5.6,\n",
       "   'Unit': 'Percent'},\n",
       "  {'Timestamp': datetime.datetime(2018, 11, 6, 12, 31, tzinfo=tzutc()),\n",
       "   'Average': 0.2,\n",
       "   'Unit': 'Percent'},\n",
       "  {'Timestamp': datetime.datetime(2018, 11, 6, 13, 6, tzinfo=tzutc()),\n",
       "   'Average': 0.0,\n",
       "   'Unit': 'Percent'},\n",
       "  {'Timestamp': datetime.datetime(2018, 11, 6, 11, 36, tzinfo=tzutc()),\n",
       "   'Average': 6.4,\n",
       "   'Unit': 'Percent'},\n",
       "  {'Timestamp': datetime.datetime(2018, 11, 6, 12, 11, tzinfo=tzutc()),\n",
       "   'Average': 2.8,\n",
       "   'Unit': 'Percent'},\n",
       "  {'Timestamp': datetime.datetime(2018, 11, 6, 12, 46, tzinfo=tzutc()),\n",
       "   'Average': 0.0,\n",
       "   'Unit': 'Percent'},\n",
       "  {'Timestamp': datetime.datetime(2018, 11, 6, 13, 21, tzinfo=tzutc()),\n",
       "   'Average': 0.0,\n",
       "   'Unit': 'Percent'},\n",
       "  {'Timestamp': datetime.datetime(2018, 11, 6, 11, 51, tzinfo=tzutc()),\n",
       "   'Average': 33.4,\n",
       "   'Unit': 'Percent'},\n",
       "  {'Timestamp': datetime.datetime(2018, 11, 6, 12, 26, tzinfo=tzutc()),\n",
       "   'Average': 0.0,\n",
       "   'Unit': 'Percent'},\n",
       "  {'Timestamp': datetime.datetime(2018, 11, 6, 13, 1, tzinfo=tzutc()),\n",
       "   'Average': 0.0,\n",
       "   'Unit': 'Percent'},\n",
       "  {'Timestamp': datetime.datetime(2018, 11, 6, 11, 31, tzinfo=tzutc()),\n",
       "   'Average': 27.8,\n",
       "   'Unit': 'Percent'},\n",
       "  {'Timestamp': datetime.datetime(2018, 11, 6, 12, 6, tzinfo=tzutc()),\n",
       "   'Average': 8.4,\n",
       "   'Unit': 'Percent'},\n",
       "  {'Timestamp': datetime.datetime(2018, 11, 6, 12, 41, tzinfo=tzutc()),\n",
       "   'Average': 0.0,\n",
       "   'Unit': 'Percent'},\n",
       "  {'Timestamp': datetime.datetime(2018, 11, 6, 13, 16, tzinfo=tzutc()),\n",
       "   'Average': 0.0,\n",
       "   'Unit': 'Percent'},\n",
       "  {'Timestamp': datetime.datetime(2018, 11, 6, 11, 46, tzinfo=tzutc()),\n",
       "   'Average': 33.8,\n",
       "   'Unit': 'Percent'},\n",
       "  {'Timestamp': datetime.datetime(2018, 11, 6, 12, 21, tzinfo=tzutc()),\n",
       "   'Average': 0.8,\n",
       "   'Unit': 'Percent'},\n",
       "  {'Timestamp': datetime.datetime(2018, 11, 6, 12, 56, tzinfo=tzutc()),\n",
       "   'Average': 0.0,\n",
       "   'Unit': 'Percent'},\n",
       "  {'Timestamp': datetime.datetime(2018, 11, 6, 13, 31, tzinfo=tzutc()),\n",
       "   'Average': 0.0,\n",
       "   'Unit': 'Percent'},\n",
       "  {'Timestamp': datetime.datetime(2018, 11, 6, 11, 26, tzinfo=tzutc()),\n",
       "   'Average': 0.0,\n",
       "   'Unit': 'Percent'},\n",
       "  {'Timestamp': datetime.datetime(2018, 11, 6, 12, 1, tzinfo=tzutc()),\n",
       "   'Average': 7.4,\n",
       "   'Unit': 'Percent'},\n",
       "  {'Timestamp': datetime.datetime(2018, 11, 6, 12, 36, tzinfo=tzutc()),\n",
       "   'Average': 0.0,\n",
       "   'Unit': 'Percent'},\n",
       "  {'Timestamp': datetime.datetime(2018, 11, 6, 13, 11, tzinfo=tzutc()),\n",
       "   'Average': 0.0,\n",
       "   'Unit': 'Percent'},\n",
       "  {'Timestamp': datetime.datetime(2018, 11, 6, 11, 41, tzinfo=tzutc()),\n",
       "   'Average': 58.4,\n",
       "   'Unit': 'Percent'},\n",
       "  {'Timestamp': datetime.datetime(2018, 11, 6, 12, 16, tzinfo=tzutc()),\n",
       "   'Average': 0.6,\n",
       "   'Unit': 'Percent'},\n",
       "  {'Timestamp': datetime.datetime(2018, 11, 6, 12, 51, tzinfo=tzutc()),\n",
       "   'Average': 0.0,\n",
       "   'Unit': 'Percent'},\n",
       "  {'Timestamp': datetime.datetime(2018, 11, 6, 13, 26, tzinfo=tzutc()),\n",
       "   'Average': 0.0,\n",
       "   'Unit': 'Percent'}],\n",
       " 'ResponseMetadata': {'RequestId': '02467c5d-e1c9-11e8-85ae-c179083c3758',\n",
       "  'HTTPStatusCode': 200,\n",
       "  'HTTPHeaders': {'x-amzn-requestid': '02467c5d-e1c9-11e8-85ae-c179083c3758',\n",
       "   'content-type': 'text/xml',\n",
       "   'content-length': '4076',\n",
       "   'vary': 'Accept-Encoding',\n",
       "   'date': 'Tue, 06 Nov 2018 13:36:47 GMT'},\n",
       "  'RetryAttempts': 0}}"
      ]
     },
     "execution_count": 4,
     "metadata": {},
     "output_type": "execute_result"
    }
   ],
   "source": [
    "# 3時間前〜現在の、指定したEC2インスタンスのCPU利用率を取得\n",
    "\n",
    "import datetime\n",
    "cw = boto3.client('cloudwatch')\n",
    "\n",
    "cw.get_metric_statistics(\n",
    "    Period=60*5, # 5分間隔\n",
    "    StartTime=datetime.datetime.utcnow() - datetime.timedelta(seconds=60*60*3), # 3時間前\n",
    "    EndTime=datetime.datetime.utcnow(), # 現在\n",
    "    MetricName='CPUUtilization', # CPU利用率\n",
    "    Namespace='AWS/EC2', # 名前空間\n",
    "    Statistics=['Average'], # 平均値を出力\n",
    "    Dimensions=[{'Name':'InstanceId', 'Value':'i-0f66e063d56f875ff'}] # ディメンジョン（EC2インスタンスIDを指定）\n",
    ")"
   ]
  },
  {
   "cell_type": "code",
   "execution_count": 5,
   "metadata": {},
   "outputs": [
    {
     "name": "stdout",
     "output_type": "stream",
     "text": [
      "2018-11-06 20:26:00+09:00 000.0 \n",
      "2018-11-06 20:31:00+09:00 027.8 ***************************\n",
      "2018-11-06 20:36:00+09:00 006.4 ******\n",
      "2018-11-06 20:41:00+09:00 058.4 **********************************************************\n",
      "2018-11-06 20:46:00+09:00 033.8 *********************************\n",
      "2018-11-06 20:51:00+09:00 033.4 *********************************\n",
      "2018-11-06 20:56:00+09:00 005.6 *****\n",
      "2018-11-06 21:01:00+09:00 007.4 *******\n",
      "2018-11-06 21:06:00+09:00 008.4 ********\n",
      "2018-11-06 21:11:00+09:00 002.8 **\n",
      "2018-11-06 21:16:00+09:00 000.6 \n",
      "2018-11-06 21:21:00+09:00 000.8 \n",
      "2018-11-06 21:26:00+09:00 000.0 \n",
      "2018-11-06 21:31:00+09:00 000.2 \n",
      "2018-11-06 21:36:00+09:00 000.0 \n",
      "2018-11-06 21:41:00+09:00 000.0 \n",
      "2018-11-06 21:46:00+09:00 000.0 \n",
      "2018-11-06 21:51:00+09:00 000.0 \n",
      "2018-11-06 21:56:00+09:00 000.0 \n",
      "2018-11-06 22:01:00+09:00 000.0 \n",
      "2018-11-06 22:06:00+09:00 000.0 \n",
      "2018-11-06 22:11:00+09:00 000.0 \n",
      "2018-11-06 22:16:00+09:00 000.0 \n",
      "2018-11-06 22:21:00+09:00 000.0 \n",
      "2018-11-06 22:26:00+09:00 000.0 \n",
      "2018-11-06 22:31:00+09:00 000.0 \n"
     ]
    }
   ],
   "source": [
    "from pytz import timezone\n",
    "\n",
    "cw = boto3.client('cloudwatch')\n",
    "\n",
    "# 3時間前〜現在の、指定したEC2インスタンスのCPU利用率を取得\n",
    "datapoints = cw.get_metric_statistics(\n",
    "    Period=60*5, # 5分間隔\n",
    "    StartTime=datetime.datetime.utcnow() - datetime.timedelta(seconds=60*60*3), # 3時間前\n",
    "    EndTime=datetime.datetime.utcnow(), # 現在\n",
    "    MetricName='CPUUtilization', # CPU利用率\n",
    "    Namespace='AWS/EC2', # 名前空間\n",
    "    Statistics=['Average'], # 平均値を出力\n",
    "    Dimensions=[{'Name':'InstanceId', 'Value':'i-0f66e063d56f875ff'}] # ディメンジョン（EC2インスタンスIDを指定）\n",
    ")['Datapoints']\n",
    "\n",
    "# 取得したデータポイント（CPU利用率）を時間順に並び替え\n",
    "datapoints = sorted(datapoints, key=lambda datapoint: datapoint['Timestamp'])\n",
    "\n",
    "# 取得したデータポイント（CPU利用率）をグラフ化して出力\n",
    "for datapoint in datapoints:\n",
    "    timestamp, average = datapoint['Timestamp'], datapoint['Average']\n",
    "    timestamp = timestamp.astimezone(timezone('Asia/Tokyo')) # UTCをJST（日本標準時）に変換\n",
    "    print(timestamp, '%05.1f' % average, '*' * int(average), sep=' ') # 時刻、CPU利用率、CPU利用率の棒グラフ"
   ]
  }
 ],
 "metadata": {
  "kernelspec": {
   "display_name": "Python 3",
   "language": "python",
   "name": "python3"
  },
  "language_info": {
   "codemirror_mode": {
    "name": "ipython",
    "version": 3
   },
   "file_extension": ".py",
   "mimetype": "text/x-python",
   "name": "python",
   "nbconvert_exporter": "python",
   "pygments_lexer": "ipython3",
   "version": "3.7.0"
  }
 },
 "nbformat": 4,
 "nbformat_minor": 2
}
