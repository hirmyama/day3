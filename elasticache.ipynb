{
 "cells": [
  {
   "cell_type": "markdown",
   "metadata": {},
   "source": [
    "事前に、適当なEC2インスタンスを立ち上げます。のちほど使用します。\n",
    "- リージョン＝東京\n",
    "- AMI＝Amazon Linux 2\n",
    "- インスタンスタイプ＝任意（t2.microなど）\n",
    "- VPC＝デフォルトVPC（default-vpc）\n",
    "- セキュリティグループ＝デフォルト（SSH接続を許可）"
   ]
  },
  {
   "cell_type": "code",
   "execution_count": null,
   "metadata": {},
   "outputs": [],
   "source": [
    "import boto3\n",
    "ec2 = boto3.resource('ec2')"
   ]
  },
  {
   "cell_type": "code",
   "execution_count": null,
   "metadata": {},
   "outputs": [],
   "source": [
    "# デフォルトVPCを取得\n",
    "default_vpc = [vpc for vpc in ec2.vpcs.all() if vpc.is_default][0]\n",
    "\n",
    "default_vpc"
   ]
  },
  {
   "cell_type": "code",
   "execution_count": null,
   "metadata": {},
   "outputs": [],
   "source": [
    "# デフォルトVPCにキャッシュクラスター用セキュリティグループを作成\n",
    "\n",
    "elasticache_sg = default_vpc.create_security_group(\n",
    "    GroupName='elasticache_sg', \n",
    "    Description='elasticache_sg')\n",
    "\n",
    "elasticache_sg"
   ]
  },
  {
   "cell_type": "code",
   "execution_count": null,
   "metadata": {},
   "outputs": [],
   "source": [
    "# セキュリティグループで、TCPポート11211の接続を許可\n",
    "elasticache_sg.authorize_ingress(\n",
    "    IpProtocol='tcp', \n",
    "    FromPort=11211, \n",
    "    ToPort=11211, \n",
    "    CidrIp='0.0.0.0/0')"
   ]
  },
  {
   "cell_type": "code",
   "execution_count": null,
   "metadata": {},
   "outputs": [],
   "source": [
    "import boto3\n",
    "ec = boto3.client('elasticache')\n"
   ]
  },
  {
   "cell_type": "code",
   "execution_count": null,
   "metadata": {},
   "outputs": [],
   "source": [
    "# キャッシュクラスターを作成\n",
    "\n",
    "response = ec.create_cache_cluster(\n",
    "    CacheClusterId='test3', \n",
    "    Engine='memcached', \n",
    "    CacheNodeType='cache.t2.micro', \n",
    "    NumCacheNodes=1,\n",
    "    SecurityGroupIds=[elasticache_sg.id])\n",
    "\n",
    "response"
   ]
  },
  {
   "cell_type": "code",
   "execution_count": null,
   "metadata": {},
   "outputs": [],
   "source": [
    "# すべてのキャッシュクラスターを表示\n",
    "ec.describe_cache_clusters()"
   ]
  },
  {
   "cell_type": "code",
   "execution_count": null,
   "metadata": {},
   "outputs": [],
   "source": [
    "# 状態を確認。「creating」から「available」に変わったら、次に進めます。\n",
    "ec.describe_cache_clusters()['CacheClusters'][0]['CacheClusterStatus']"
   ]
  },
  {
   "cell_type": "code",
   "execution_count": null,
   "metadata": {},
   "outputs": [],
   "source": [
    "# キャッシュクラスターのエンドポイントを確認\n",
    "\n",
    "endpoint = ec.describe_cache_clusters()['CacheClusters'][0]['ConfigurationEndpoint']\n",
    "\n",
    "address = '%s:%s' % (endpoint['Address'], endpoint['Port'])\n",
    "print('ElastiCacheのアドレス:', address)"
   ]
  },
  {
   "cell_type": "markdown",
   "metadata": {},
   "source": [
    "ElastiCacheには、デフォルトでは、VPC外からは接続ができません。\n",
    "https://docs.aws.amazon.com/ja_jp/AmazonElastiCache/latest/mem-ug/accessing-elasticache.html\n",
    "\n",
    "したがって、冒頭で準備したEC2インスタンスにSSH接続し、下記を実行します。\n",
    "```\n",
    "sudo yum -y install python3\n",
    "pip3 install python-memcached --user\n",
    "python3\n",
    "```"
   ]
  },
  {
   "cell_type": "markdown",
   "metadata": {},
   "source": [
    "以降、上記で実行したpython内で実行（>>>以下に貼り付け）"
   ]
  },
  {
   "cell_type": "code",
   "execution_count": null,
   "metadata": {},
   "outputs": [],
   "source": [
    "# クライアントの作成\n",
    "import memcache\n",
    "\n",
    "address = 'test3.xhpium.cfg.apne1.cache.amazonaws.com:11211' # 上記で出力されたElastiCacheのアドレスをセット。\n",
    "mc = memcache.Client([address], debug=1)"
   ]
  },
  {
   "cell_type": "code",
   "execution_count": null,
   "metadata": {},
   "outputs": [],
   "source": [
    "# キャッシュへの書き込み\n",
    "mc.set('name', 'taro')"
   ]
  },
  {
   "cell_type": "code",
   "execution_count": null,
   "metadata": {},
   "outputs": [],
   "source": [
    "# キャッシュからの読み込み\n",
    "mc.get('name')"
   ]
  }
 ],
 "metadata": {
  "kernelspec": {
   "display_name": "Python 3",
   "language": "python",
   "name": "python3"
  },
  "language_info": {
   "codemirror_mode": {
    "name": "ipython",
    "version": 3
   },
   "file_extension": ".py",
   "mimetype": "text/x-python",
   "name": "python",
   "nbconvert_exporter": "python",
   "pygments_lexer": "ipython3",
   "version": "3.7.0"
  }
 },
 "nbformat": 4,
 "nbformat_minor": 2
}
