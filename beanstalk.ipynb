{
 "cells": [
  {
   "cell_type": "markdown",
   "metadata": {},
   "source": [
    " 以下の手順は、EC2インスタンス上で実行します。\n",
    "- リージョン＝東京\n",
    "- AMI＝Amazon Linux 2\n",
    "- インスタンスタイプ＝任意（t2.microなど）\n",
    "- VPC＝デフォルトVPC（default-vpc）\n",
    "- セキュリティグループ＝デフォルト（SSH接続を許可）\n",
    "\n",
    "\n",
    "```\n",
    "# python3をインストール\n",
    "sudo yum -y install python3\n",
    "\n",
    "# eb cliをインストール\n",
    "pip install awsebcli --upgrade --user\n",
    "\n",
    "# 数字部分は適当に打ち込んで決めてください\n",
    "mkdir project928374927349273\n",
    "cd project928374927349273\n",
    "\n",
    "# プロジェクトを初期化（質問が出ます。エンターキーを押して進めます）\n",
    "eb init\n",
    "\n",
    "# プロジェクトを作成（エンターキーを押して進めます。しばらく時間がかかります）\n",
    "eb create\n",
    "\n",
    "# ステータスを確認\n",
    "eb status\n",
    "\n",
    "# 上記で表示された「CNAME」のアドレスをコピーし、ウェブブラウザの新しいタブで開きます。\n",
    "```"
   ]
  },
  {
   "cell_type": "code",
   "execution_count": null,
   "metadata": {},
   "outputs": [],
   "source": []
  }
 ],
 "metadata": {
  "kernelspec": {
   "display_name": "Python 3",
   "language": "python",
   "name": "python3"
  },
  "language_info": {
   "codemirror_mode": {
    "name": "ipython",
    "version": 3
   },
   "file_extension": ".py",
   "mimetype": "text/x-python",
   "name": "python",
   "nbconvert_exporter": "python",
   "pygments_lexer": "ipython3",
   "version": "3.7.0"
  }
 },
 "nbformat": 4,
 "nbformat_minor": 2
}
